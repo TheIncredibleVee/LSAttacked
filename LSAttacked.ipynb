{
 "cells": [
  {
   "cell_type": "code",
   "execution_count": 1,
   "id": "6e7f8cfb",
   "metadata": {},
   "outputs": [],
   "source": [
    "import os\n",
    "import sys\n",
    "from selenium.webdriver.common.by import By\n",
    "from time import sleep\n",
    "from selenium import webdriver\n",
    "\n",
    "os.path.dirname(sys.executable)\n",
    "driver = webdriver.Chrome()"
   ]
  },
  {
   "cell_type": "code",
   "execution_count": 2,
   "id": "e32dd2e1",
   "metadata": {},
   "outputs": [],
   "source": [
    "import logging\n",
    "import datetime\n",
    "\n",
    "file = datetime.datetime.now()\n",
    "file = \"./logs/\" + str(file).replace(\" \", \"_\").replace(\".\",\"_\").replace(\":\",\"_\") + \".log\" \n",
    "logging.basicConfig(filename=file, filemode='w', format='%(asctime)s - %(levelname)s - %(message)s',datefmt='%d-%b-%y %H:%M:%S')"
   ]
  },
  {
   "cell_type": "code",
   "execution_count": 3,
   "id": "804a2635",
   "metadata": {},
   "outputs": [],
   "source": [
    "with open('credentials.txt') as f:\n",
    "    roll_no = f.readline().strip();\n",
    "    pwd = f.readline().strip();"
   ]
  },
  {
   "cell_type": "code",
   "execution_count": 4,
   "id": "06c579f5",
   "metadata": {},
   "outputs": [],
   "source": [
    "subj = []\n",
    "with open('subjects.txt') as f:\n",
    "    for subject in f.readlines():\n",
    "        subj.append(subject.strip())"
   ]
  },
  {
   "cell_type": "code",
   "execution_count": 5,
   "id": "18ebda79",
   "metadata": {},
   "outputs": [],
   "source": [
    "with open('param.txt') as f:\n",
    "    outer_loop_range = int(f.readline().strip())\n",
    "    inner_loop_range = int(f.readline().strip())\n",
    "    logs = int(f.readline().strip())"
   ]
  },
  {
   "cell_type": "code",
   "execution_count": null,
   "id": "2aecd4f3",
   "metadata": {},
   "outputs": [],
   "source": [
    "\n",
    "for j in range(outer_loop_range):\n",
    "    try:\n",
    "        driver.get('https://cumsdtu.in/registration_student/login/login.jsp?courseRegistration')\n",
    "        user= driver.find_element(By.XPATH,\"//input[@name='userName']\")\n",
    "        user.send_keys(roll_no)\n",
    "        passw= driver.find_element(By.XPATH,\"//input[@name='password']\")\n",
    "        passw.send_keys(pwd)\n",
    "        login= driver.find_element(By.XPATH,\"//input[@value='Log In']\")\n",
    "        login.click()\n",
    "        sleep(4)\n",
    "        try:\n",
    "            note= driver.find_element(By.XPATH,\"//*[contains(text(),' Course Registration is not open. Kindly visit later on.')]\")\n",
    "            logging.error('REG NOT OPEN')\n",
    "            sleep(1)\n",
    "        except:\n",
    "            try:\n",
    "                subj_elems = []\n",
    "                save_btn = driver.find_element(By.XPATH,\"//button[@class='narrow mat-button mat-save']\")\n",
    "                for subject in subj:\n",
    "                    temp = driver.find_element(By.XPATH,\"//*[contains(text(),'\"+ subject+\" Cr:4.0')]\")\n",
    "                    subj_elems.append(temp)\n",
    "                for i in range(inner_loop_range):\n",
    "                    try:\n",
    "                        if(len(subj_elems) == 0):\n",
    "                            quit()\n",
    "                        for elem in subj_elems:\n",
    "                            elem.click()\n",
    "                            save_btn.click()\n",
    "                            sleep(0.4)\n",
    "                    except:\n",
    "                      logging.error(\"Error while registering subject.\")\n",
    "            except:\n",
    "                logging.error(\"Invalid subject codes. Try editing the subjects.txt file\")\n",
    "    except:\n",
    "              logging.error(\"LOGIN ISSUE\")"
   ]
  },
  {
   "cell_type": "code",
   "execution_count": null,
   "id": "d2b98b97",
   "metadata": {},
   "outputs": [],
   "source": []
  }
 ],
 "metadata": {
  "kernelspec": {
   "display_name": "base",
   "language": "python",
   "name": "python3"
  },
  "language_info": {
   "codemirror_mode": {
    "name": "ipython",
    "version": 3
   },
   "file_extension": ".py",
   "mimetype": "text/x-python",
   "name": "python",
   "nbconvert_exporter": "python",
   "pygments_lexer": "ipython3",
   "version": "3.9.13 (main, Aug 25 2022, 23:51:50) [MSC v.1916 64 bit (AMD64)]"
  },
  "vscode": {
   "interpreter": {
    "hash": "ad2bdc8ecc057115af97d19610ffacc2b4e99fae6737bb82f5d7fb13d2f2c186"
   }
  }
 },
 "nbformat": 4,
 "nbformat_minor": 5
}
